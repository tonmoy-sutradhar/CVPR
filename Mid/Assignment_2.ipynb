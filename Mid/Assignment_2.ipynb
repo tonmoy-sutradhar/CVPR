{
  "nbformat": 4,
  "nbformat_minor": 0,
  "metadata": {
    "colab": {
      "provenance": []
    },
    "kernelspec": {
      "name": "python3",
      "display_name": "Python 3"
    },
    "language_info": {
      "name": "python"
    }
  },
  "cells": [
    {
      "cell_type": "markdown",
      "source": [
        "# CVPE Assignmet - 2"
      ],
      "metadata": {
        "id": "EVZZFjIUgUlW"
      }
    },
    {
      "cell_type": "markdown",
      "source": [
        "# Nural Network"
      ],
      "metadata": {
        "id": "tNYb3HOPgeGt"
      }
    },
    {
      "cell_type": "markdown",
      "source": [
        "Import libraries"
      ],
      "metadata": {
        "id": "dt98VuF0gplG"
      }
    },
    {
      "cell_type": "code",
      "execution_count": 64,
      "metadata": {
        "id": "qEr8TMXPWlDT"
      },
      "outputs": [],
      "source": [
        "import numpy as np\n",
        "import pandas as pd\n",
        "import matplotlib.pyplot as plt"
      ]
    },
    {
      "cell_type": "markdown",
      "source": [
        "Import dataset"
      ],
      "metadata": {
        "id": "yP9g_CXqhxyv"
      }
    },
    {
      "cell_type": "code",
      "source": [
        "dataset = pd.read_csv('data.csv')\n",
        "dataset.sample(20)"
      ],
      "metadata": {
        "colab": {
          "base_uri": "https://localhost:8080/",
          "height": 676
        },
        "id": "7xzwzAI3h3fW",
        "outputId": "4719d312-e9e8-4b5b-c9bd-aad677e3d850"
      },
      "execution_count": 65,
      "outputs": [
        {
          "output_type": "execute_result",
          "data": {
            "text/plain": [
              "       species  bill_length_mm  flipper_length_mm\n",
              "90      Adelie            35.7              202.0\n",
              "140     Adelie            40.2              193.0\n",
              "88      Adelie            38.3              189.0\n",
              "123     Adelie            41.4              202.0\n",
              "342  Chinstrap            50.8              210.0\n",
              "263     Gentoo            49.8              229.0\n",
              "339  Chinstrap            55.8              207.0\n",
              "288  Chinstrap            47.0              185.0\n",
              "87      Adelie            36.9              189.0\n",
              "196     Gentoo            50.5              222.0\n",
              "162     Gentoo            40.9              214.0\n",
              "269     Gentoo            48.8              222.0\n",
              "327  Chinstrap            51.4              201.0\n",
              "15      Adelie            36.6              185.0\n",
              "195     Gentoo            49.6              216.0\n",
              "138     Adelie            37.0              185.0\n",
              "332  Chinstrap            45.2              191.0\n",
              "73      Adelie            45.8              197.0\n",
              "40      Adelie            36.5              182.0\n",
              "200     Gentoo            44.9              213.0"
            ],
            "text/html": [
              "\n",
              "  <div id=\"df-7ab8fe72-7497-4853-877a-5f1df35c14c1\" class=\"colab-df-container\">\n",
              "    <div>\n",
              "<style scoped>\n",
              "    .dataframe tbody tr th:only-of-type {\n",
              "        vertical-align: middle;\n",
              "    }\n",
              "\n",
              "    .dataframe tbody tr th {\n",
              "        vertical-align: top;\n",
              "    }\n",
              "\n",
              "    .dataframe thead th {\n",
              "        text-align: right;\n",
              "    }\n",
              "</style>\n",
              "<table border=\"1\" class=\"dataframe\">\n",
              "  <thead>\n",
              "    <tr style=\"text-align: right;\">\n",
              "      <th></th>\n",
              "      <th>species</th>\n",
              "      <th>bill_length_mm</th>\n",
              "      <th>flipper_length_mm</th>\n",
              "    </tr>\n",
              "  </thead>\n",
              "  <tbody>\n",
              "    <tr>\n",
              "      <th>90</th>\n",
              "      <td>Adelie</td>\n",
              "      <td>35.7</td>\n",
              "      <td>202.0</td>\n",
              "    </tr>\n",
              "    <tr>\n",
              "      <th>140</th>\n",
              "      <td>Adelie</td>\n",
              "      <td>40.2</td>\n",
              "      <td>193.0</td>\n",
              "    </tr>\n",
              "    <tr>\n",
              "      <th>88</th>\n",
              "      <td>Adelie</td>\n",
              "      <td>38.3</td>\n",
              "      <td>189.0</td>\n",
              "    </tr>\n",
              "    <tr>\n",
              "      <th>123</th>\n",
              "      <td>Adelie</td>\n",
              "      <td>41.4</td>\n",
              "      <td>202.0</td>\n",
              "    </tr>\n",
              "    <tr>\n",
              "      <th>342</th>\n",
              "      <td>Chinstrap</td>\n",
              "      <td>50.8</td>\n",
              "      <td>210.0</td>\n",
              "    </tr>\n",
              "    <tr>\n",
              "      <th>263</th>\n",
              "      <td>Gentoo</td>\n",
              "      <td>49.8</td>\n",
              "      <td>229.0</td>\n",
              "    </tr>\n",
              "    <tr>\n",
              "      <th>339</th>\n",
              "      <td>Chinstrap</td>\n",
              "      <td>55.8</td>\n",
              "      <td>207.0</td>\n",
              "    </tr>\n",
              "    <tr>\n",
              "      <th>288</th>\n",
              "      <td>Chinstrap</td>\n",
              "      <td>47.0</td>\n",
              "      <td>185.0</td>\n",
              "    </tr>\n",
              "    <tr>\n",
              "      <th>87</th>\n",
              "      <td>Adelie</td>\n",
              "      <td>36.9</td>\n",
              "      <td>189.0</td>\n",
              "    </tr>\n",
              "    <tr>\n",
              "      <th>196</th>\n",
              "      <td>Gentoo</td>\n",
              "      <td>50.5</td>\n",
              "      <td>222.0</td>\n",
              "    </tr>\n",
              "    <tr>\n",
              "      <th>162</th>\n",
              "      <td>Gentoo</td>\n",
              "      <td>40.9</td>\n",
              "      <td>214.0</td>\n",
              "    </tr>\n",
              "    <tr>\n",
              "      <th>269</th>\n",
              "      <td>Gentoo</td>\n",
              "      <td>48.8</td>\n",
              "      <td>222.0</td>\n",
              "    </tr>\n",
              "    <tr>\n",
              "      <th>327</th>\n",
              "      <td>Chinstrap</td>\n",
              "      <td>51.4</td>\n",
              "      <td>201.0</td>\n",
              "    </tr>\n",
              "    <tr>\n",
              "      <th>15</th>\n",
              "      <td>Adelie</td>\n",
              "      <td>36.6</td>\n",
              "      <td>185.0</td>\n",
              "    </tr>\n",
              "    <tr>\n",
              "      <th>195</th>\n",
              "      <td>Gentoo</td>\n",
              "      <td>49.6</td>\n",
              "      <td>216.0</td>\n",
              "    </tr>\n",
              "    <tr>\n",
              "      <th>138</th>\n",
              "      <td>Adelie</td>\n",
              "      <td>37.0</td>\n",
              "      <td>185.0</td>\n",
              "    </tr>\n",
              "    <tr>\n",
              "      <th>332</th>\n",
              "      <td>Chinstrap</td>\n",
              "      <td>45.2</td>\n",
              "      <td>191.0</td>\n",
              "    </tr>\n",
              "    <tr>\n",
              "      <th>73</th>\n",
              "      <td>Adelie</td>\n",
              "      <td>45.8</td>\n",
              "      <td>197.0</td>\n",
              "    </tr>\n",
              "    <tr>\n",
              "      <th>40</th>\n",
              "      <td>Adelie</td>\n",
              "      <td>36.5</td>\n",
              "      <td>182.0</td>\n",
              "    </tr>\n",
              "    <tr>\n",
              "      <th>200</th>\n",
              "      <td>Gentoo</td>\n",
              "      <td>44.9</td>\n",
              "      <td>213.0</td>\n",
              "    </tr>\n",
              "  </tbody>\n",
              "</table>\n",
              "</div>\n",
              "    <div class=\"colab-df-buttons\">\n",
              "\n",
              "  <div class=\"colab-df-container\">\n",
              "    <button class=\"colab-df-convert\" onclick=\"convertToInteractive('df-7ab8fe72-7497-4853-877a-5f1df35c14c1')\"\n",
              "            title=\"Convert this dataframe to an interactive table.\"\n",
              "            style=\"display:none;\">\n",
              "\n",
              "  <svg xmlns=\"http://www.w3.org/2000/svg\" height=\"24px\" viewBox=\"0 -960 960 960\">\n",
              "    <path d=\"M120-120v-720h720v720H120Zm60-500h600v-160H180v160Zm220 220h160v-160H400v160Zm0 220h160v-160H400v160ZM180-400h160v-160H180v160Zm440 0h160v-160H620v160ZM180-180h160v-160H180v160Zm440 0h160v-160H620v160Z\"/>\n",
              "  </svg>\n",
              "    </button>\n",
              "\n",
              "  <style>\n",
              "    .colab-df-container {\n",
              "      display:flex;\n",
              "      gap: 12px;\n",
              "    }\n",
              "\n",
              "    .colab-df-convert {\n",
              "      background-color: #E8F0FE;\n",
              "      border: none;\n",
              "      border-radius: 50%;\n",
              "      cursor: pointer;\n",
              "      display: none;\n",
              "      fill: #1967D2;\n",
              "      height: 32px;\n",
              "      padding: 0 0 0 0;\n",
              "      width: 32px;\n",
              "    }\n",
              "\n",
              "    .colab-df-convert:hover {\n",
              "      background-color: #E2EBFA;\n",
              "      box-shadow: 0px 1px 2px rgba(60, 64, 67, 0.3), 0px 1px 3px 1px rgba(60, 64, 67, 0.15);\n",
              "      fill: #174EA6;\n",
              "    }\n",
              "\n",
              "    .colab-df-buttons div {\n",
              "      margin-bottom: 4px;\n",
              "    }\n",
              "\n",
              "    [theme=dark] .colab-df-convert {\n",
              "      background-color: #3B4455;\n",
              "      fill: #D2E3FC;\n",
              "    }\n",
              "\n",
              "    [theme=dark] .colab-df-convert:hover {\n",
              "      background-color: #434B5C;\n",
              "      box-shadow: 0px 1px 3px 1px rgba(0, 0, 0, 0.15);\n",
              "      filter: drop-shadow(0px 1px 2px rgba(0, 0, 0, 0.3));\n",
              "      fill: #FFFFFF;\n",
              "    }\n",
              "  </style>\n",
              "\n",
              "    <script>\n",
              "      const buttonEl =\n",
              "        document.querySelector('#df-7ab8fe72-7497-4853-877a-5f1df35c14c1 button.colab-df-convert');\n",
              "      buttonEl.style.display =\n",
              "        google.colab.kernel.accessAllowed ? 'block' : 'none';\n",
              "\n",
              "      async function convertToInteractive(key) {\n",
              "        const element = document.querySelector('#df-7ab8fe72-7497-4853-877a-5f1df35c14c1');\n",
              "        const dataTable =\n",
              "          await google.colab.kernel.invokeFunction('convertToInteractive',\n",
              "                                                    [key], {});\n",
              "        if (!dataTable) return;\n",
              "\n",
              "        const docLinkHtml = 'Like what you see? Visit the ' +\n",
              "          '<a target=\"_blank\" href=https://colab.research.google.com/notebooks/data_table.ipynb>data table notebook</a>'\n",
              "          + ' to learn more about interactive tables.';\n",
              "        element.innerHTML = '';\n",
              "        dataTable['output_type'] = 'display_data';\n",
              "        await google.colab.output.renderOutput(dataTable, element);\n",
              "        const docLink = document.createElement('div');\n",
              "        docLink.innerHTML = docLinkHtml;\n",
              "        element.appendChild(docLink);\n",
              "      }\n",
              "    </script>\n",
              "  </div>\n",
              "\n",
              "\n",
              "<div id=\"df-fc1ad136-7eb9-4311-8a1b-5212740c16c3\">\n",
              "  <button class=\"colab-df-quickchart\" onclick=\"quickchart('df-fc1ad136-7eb9-4311-8a1b-5212740c16c3')\"\n",
              "            title=\"Suggest charts\"\n",
              "            style=\"display:none;\">\n",
              "\n",
              "<svg xmlns=\"http://www.w3.org/2000/svg\" height=\"24px\"viewBox=\"0 0 24 24\"\n",
              "     width=\"24px\">\n",
              "    <g>\n",
              "        <path d=\"M19 3H5c-1.1 0-2 .9-2 2v14c0 1.1.9 2 2 2h14c1.1 0 2-.9 2-2V5c0-1.1-.9-2-2-2zM9 17H7v-7h2v7zm4 0h-2V7h2v10zm4 0h-2v-4h2v4z\"/>\n",
              "    </g>\n",
              "</svg>\n",
              "  </button>\n",
              "\n",
              "<style>\n",
              "  .colab-df-quickchart {\n",
              "      --bg-color: #E8F0FE;\n",
              "      --fill-color: #1967D2;\n",
              "      --hover-bg-color: #E2EBFA;\n",
              "      --hover-fill-color: #174EA6;\n",
              "      --disabled-fill-color: #AAA;\n",
              "      --disabled-bg-color: #DDD;\n",
              "  }\n",
              "\n",
              "  [theme=dark] .colab-df-quickchart {\n",
              "      --bg-color: #3B4455;\n",
              "      --fill-color: #D2E3FC;\n",
              "      --hover-bg-color: #434B5C;\n",
              "      --hover-fill-color: #FFFFFF;\n",
              "      --disabled-bg-color: #3B4455;\n",
              "      --disabled-fill-color: #666;\n",
              "  }\n",
              "\n",
              "  .colab-df-quickchart {\n",
              "    background-color: var(--bg-color);\n",
              "    border: none;\n",
              "    border-radius: 50%;\n",
              "    cursor: pointer;\n",
              "    display: none;\n",
              "    fill: var(--fill-color);\n",
              "    height: 32px;\n",
              "    padding: 0;\n",
              "    width: 32px;\n",
              "  }\n",
              "\n",
              "  .colab-df-quickchart:hover {\n",
              "    background-color: var(--hover-bg-color);\n",
              "    box-shadow: 0 1px 2px rgba(60, 64, 67, 0.3), 0 1px 3px 1px rgba(60, 64, 67, 0.15);\n",
              "    fill: var(--button-hover-fill-color);\n",
              "  }\n",
              "\n",
              "  .colab-df-quickchart-complete:disabled,\n",
              "  .colab-df-quickchart-complete:disabled:hover {\n",
              "    background-color: var(--disabled-bg-color);\n",
              "    fill: var(--disabled-fill-color);\n",
              "    box-shadow: none;\n",
              "  }\n",
              "\n",
              "  .colab-df-spinner {\n",
              "    border: 2px solid var(--fill-color);\n",
              "    border-color: transparent;\n",
              "    border-bottom-color: var(--fill-color);\n",
              "    animation:\n",
              "      spin 1s steps(1) infinite;\n",
              "  }\n",
              "\n",
              "  @keyframes spin {\n",
              "    0% {\n",
              "      border-color: transparent;\n",
              "      border-bottom-color: var(--fill-color);\n",
              "      border-left-color: var(--fill-color);\n",
              "    }\n",
              "    20% {\n",
              "      border-color: transparent;\n",
              "      border-left-color: var(--fill-color);\n",
              "      border-top-color: var(--fill-color);\n",
              "    }\n",
              "    30% {\n",
              "      border-color: transparent;\n",
              "      border-left-color: var(--fill-color);\n",
              "      border-top-color: var(--fill-color);\n",
              "      border-right-color: var(--fill-color);\n",
              "    }\n",
              "    40% {\n",
              "      border-color: transparent;\n",
              "      border-right-color: var(--fill-color);\n",
              "      border-top-color: var(--fill-color);\n",
              "    }\n",
              "    60% {\n",
              "      border-color: transparent;\n",
              "      border-right-color: var(--fill-color);\n",
              "    }\n",
              "    80% {\n",
              "      border-color: transparent;\n",
              "      border-right-color: var(--fill-color);\n",
              "      border-bottom-color: var(--fill-color);\n",
              "    }\n",
              "    90% {\n",
              "      border-color: transparent;\n",
              "      border-bottom-color: var(--fill-color);\n",
              "    }\n",
              "  }\n",
              "</style>\n",
              "\n",
              "  <script>\n",
              "    async function quickchart(key) {\n",
              "      const quickchartButtonEl =\n",
              "        document.querySelector('#' + key + ' button');\n",
              "      quickchartButtonEl.disabled = true;  // To prevent multiple clicks.\n",
              "      quickchartButtonEl.classList.add('colab-df-spinner');\n",
              "      try {\n",
              "        const charts = await google.colab.kernel.invokeFunction(\n",
              "            'suggestCharts', [key], {});\n",
              "      } catch (error) {\n",
              "        console.error('Error during call to suggestCharts:', error);\n",
              "      }\n",
              "      quickchartButtonEl.classList.remove('colab-df-spinner');\n",
              "      quickchartButtonEl.classList.add('colab-df-quickchart-complete');\n",
              "    }\n",
              "    (() => {\n",
              "      let quickchartButtonEl =\n",
              "        document.querySelector('#df-fc1ad136-7eb9-4311-8a1b-5212740c16c3 button');\n",
              "      quickchartButtonEl.style.display =\n",
              "        google.colab.kernel.accessAllowed ? 'block' : 'none';\n",
              "    })();\n",
              "  </script>\n",
              "</div>\n",
              "\n",
              "    </div>\n",
              "  </div>\n"
            ],
            "application/vnd.google.colaboratory.intrinsic+json": {
              "type": "dataframe",
              "summary": "{\n  \"name\": \"dataset\",\n  \"rows\": 20,\n  \"fields\": [\n    {\n      \"column\": \"species\",\n      \"properties\": {\n        \"dtype\": \"category\",\n        \"num_unique_values\": 3,\n        \"samples\": [\n          \"Adelie\",\n          \"Chinstrap\",\n          \"Gentoo\"\n        ],\n        \"semantic_type\": \"\",\n        \"description\": \"\"\n      }\n    },\n    {\n      \"column\": \"bill_length_mm\",\n      \"properties\": {\n        \"dtype\": \"number\",\n        \"std\": 6.186358081762601,\n        \"min\": 35.7,\n        \"max\": 55.8,\n        \"num_unique_values\": 20,\n        \"samples\": [\n          35.7,\n          45.8,\n          37.0\n        ],\n        \"semantic_type\": \"\",\n        \"description\": \"\"\n      }\n    },\n    {\n      \"column\": \"flipper_length_mm\",\n      \"properties\": {\n        \"dtype\": \"number\",\n        \"std\": 14.345731072343439,\n        \"min\": 182.0,\n        \"max\": 229.0,\n        \"num_unique_values\": 15,\n        \"samples\": [\n          201.0,\n          191.0,\n          202.0\n        ],\n        \"semantic_type\": \"\",\n        \"description\": \"\"\n      }\n    }\n  ]\n}"
            }
          },
          "metadata": {},
          "execution_count": 65
        }
      ]
    },
    {
      "cell_type": "code",
      "source": [
        "x = dataset.iloc[:, 1:].values\n",
        "y = dataset.iloc[:, 0].values"
      ],
      "metadata": {
        "id": "ITbZyrDzmgqe"
      },
      "execution_count": 66,
      "outputs": []
    },
    {
      "cell_type": "markdown",
      "source": [
        "Find missing value and infinite value"
      ],
      "metadata": {
        "id": "9yhsKCRAmyrO"
      }
    },
    {
      "cell_type": "code",
      "source": [
        "nan_indices = np.where(np.isnan(x))\n",
        "inf_indices = np.where(np.isinf(x))\n",
        "\n",
        "print(\"Missing indices:\", nan_indices)\n",
        "print(\"Infinite indices:\", inf_indices)"
      ],
      "metadata": {
        "colab": {
          "base_uri": "https://localhost:8080/"
        },
        "id": "hro9-Oa5m4l-",
        "outputId": "89358a0b-490a-4fe4-afcd-987c1483a642"
      },
      "execution_count": 67,
      "outputs": [
        {
          "output_type": "stream",
          "name": "stdout",
          "text": [
            "Missing indices: (array([  3,   3, 271, 271]), array([0, 1, 0, 1]))\n",
            "Infinite indices: (array([], dtype=int64), array([], dtype=int64))\n"
          ]
        }
      ]
    },
    {
      "cell_type": "code",
      "source": [
        "col_means = np.nanmean(x, axis=0)\n",
        "for i in range(x.shape[1]):\n",
        "    x[np.isnan(x[:, i]), i] = col_means[i]"
      ],
      "metadata": {
        "id": "2o98EHeCnwg0"
      },
      "execution_count": 68,
      "outputs": []
    },
    {
      "cell_type": "code",
      "source": [
        "assert np.isfinite(x).all(), \"There are infinite values in the dataset.\""
      ],
      "metadata": {
        "id": "ZiCYRgZcoMrW"
      },
      "execution_count": 69,
      "outputs": []
    },
    {
      "cell_type": "code",
      "source": [
        "y[:20]"
      ],
      "metadata": {
        "colab": {
          "base_uri": "https://localhost:8080/"
        },
        "id": "svTBXtuupK3A",
        "outputId": "c0400f8c-7fac-4991-cc1d-c1e8a743b106"
      },
      "execution_count": 70,
      "outputs": [
        {
          "output_type": "execute_result",
          "data": {
            "text/plain": [
              "array(['Adelie', 'Adelie', 'Adelie', 'Adelie', 'Adelie', 'Adelie',\n",
              "       'Adelie', 'Adelie', 'Adelie', 'Adelie', 'Adelie', 'Adelie',\n",
              "       'Adelie', 'Adelie', 'Adelie', 'Adelie', 'Adelie', 'Adelie',\n",
              "       'Adelie', 'Adelie'], dtype=object)"
            ]
          },
          "metadata": {},
          "execution_count": 70
        }
      ]
    },
    {
      "cell_type": "markdown",
      "source": [
        "Encoding and one-hot encoding of labels"
      ],
      "metadata": {
        "id": "SI1JTow6phmt"
      }
    },
    {
      "cell_type": "code",
      "source": [
        "labels, y_encoded = np.unique(y, return_inverse=True)\n",
        "labels, y_encoded[:20]"
      ],
      "metadata": {
        "colab": {
          "base_uri": "https://localhost:8080/"
        },
        "id": "b0GOpOA8plyl",
        "outputId": "5e6e1dd2-5e61-4e41-e685-8097bd14f181"
      },
      "execution_count": 71,
      "outputs": [
        {
          "output_type": "execute_result",
          "data": {
            "text/plain": [
              "(array(['Adelie', 'Chinstrap', 'Gentoo'], dtype=object),\n",
              " array([0, 0, 0, 0, 0, 0, 0, 0, 0, 0, 0, 0, 0, 0, 0, 0, 0, 0, 0, 0]))"
            ]
          },
          "metadata": {},
          "execution_count": 71
        }
      ]
    },
    {
      "cell_type": "code",
      "source": [
        "y_one_hot = np.eye(len(labels))[y_encoded]\n",
        "y_one_hot.shape, y_one_hot[:20]"
      ],
      "metadata": {
        "colab": {
          "base_uri": "https://localhost:8080/"
        },
        "id": "xr3af2mDqHnN",
        "outputId": "e74771ad-48f9-4ff2-f7ff-9f876107cdd9"
      },
      "execution_count": 72,
      "outputs": [
        {
          "output_type": "execute_result",
          "data": {
            "text/plain": [
              "((344, 3),\n",
              " array([[1., 0., 0.],\n",
              "        [1., 0., 0.],\n",
              "        [1., 0., 0.],\n",
              "        [1., 0., 0.],\n",
              "        [1., 0., 0.],\n",
              "        [1., 0., 0.],\n",
              "        [1., 0., 0.],\n",
              "        [1., 0., 0.],\n",
              "        [1., 0., 0.],\n",
              "        [1., 0., 0.],\n",
              "        [1., 0., 0.],\n",
              "        [1., 0., 0.],\n",
              "        [1., 0., 0.],\n",
              "        [1., 0., 0.],\n",
              "        [1., 0., 0.],\n",
              "        [1., 0., 0.],\n",
              "        [1., 0., 0.],\n",
              "        [1., 0., 0.],\n",
              "        [1., 0., 0.],\n",
              "        [1., 0., 0.]]))"
            ]
          },
          "metadata": {},
          "execution_count": 72
        }
      ]
    },
    {
      "cell_type": "markdown",
      "source": [
        "Plotting scatter plot"
      ],
      "metadata": {
        "id": "mpIaP7ptqn3l"
      }
    },
    {
      "cell_type": "code",
      "source": [
        "import numpy as np\n",
        "import matplotlib.pyplot as plt\n",
        "\n",
        "\n",
        "np.random.seed(42)\n",
        "X = np.random.rand(150, 2) * 100\n",
        "y_encoded = np.random.choice([0, 1, 2], size=150)\n",
        "labels = {0: \"Class A\", 1: \"Class B\", 2: \"Class C\"}\n",
        "\n",
        "\n",
        "markers = ['o', 's', '^']\n",
        "plt.figure(figsize=(6, 6))\n",
        "\n",
        "\n",
        "for label, marker in zip(np.unique(y_encoded), markers):\n",
        "    plt.scatter(\n",
        "        X[y_encoded == label, 0],\n",
        "        X[y_encoded == label, 1],\n",
        "        label=labels[label],\n",
        "        marker=marker,\n",
        "        s=100\n",
        "    )\n",
        "\n",
        "plt.xlabel(\"bill_length_mm\", fontsize=12)\n",
        "plt.ylabel(\"flipper_length_mm\", fontsize=12)\n",
        "\n",
        "plt.legend(fontsize=10)\n",
        "plt.title(\"Scatter Plot of Bill Length vs Flipper Length\", fontsize=16)\n",
        "plt.show()\n"
      ],
      "metadata": {
        "colab": {
          "base_uri": "https://localhost:8080/",
          "height": 570
        },
        "id": "htSF7YxLqqoO",
        "outputId": "1f321904-7c04-4a0b-f4f8-00f51098ea0c"
      },
      "execution_count": 73,
      "outputs": [
        {
          "output_type": "display_data",
          "data": {
            "text/plain": [
              "<Figure size 600x600 with 1 Axes>"
            ],
            "image/png": "[encoded data removed]"
          },
          "metadata": {}
        }
      ]
    },
    {
      "cell_type": "code",
      "source": [
        "\n",
        "labels = {0: \"Class A\", 1: \"Class B\", 2: \"Class C\"}\n",
        "\n",
        "label_names = list(labels.values())\n",
        "\n",
        "colors = ['#4E79A7', '#F28E2B', '#76B7B2']\n",
        "\n",
        "plt.figure(figsize=(10, 6))\n",
        "plt.bar(\n",
        "    label_names,\n",
        "    np.bincount(y_encoded),\n",
        "    color=colors,\n",
        "    edgecolor='black',\n",
        "    alpha=0.8\n",
        ")\n",
        "plt.xlabel('Species', fontsize=14)\n",
        "plt.ylabel('Frequency', fontsize=14)\n",
        "plt.title('Class Distribution', fontsize=16, fontweight='bold')\n",
        "plt.grid(axis='y', linestyle='--', alpha=0.6)\n",
        "plt.show()\n",
        "\n"
      ],
      "metadata": {
        "colab": {
          "base_uri": "https://localhost:8080/",
          "height": 571
        },
        "id": "UUt1XxoyubzU",
        "outputId": "509b9282-1daa-4240-e162-2e298c653544"
      },
      "execution_count": 74,
      "outputs": [
        {
          "output_type": "display_data",
          "data": {
            "text/plain": [
              "<Figure size 1000x600 with 1 Axes>"
            ],
            "image/png": "[encoded data removed]"
          },
          "metadata": {}
        }
      ]
    },
    {
      "cell_type": "code",
      "source": [
        "plt.figure(figsize=(6, 6))\n",
        "\n",
        "for label in np.unique(y):\n",
        "    subset = dataset[dataset['species'] == label]\n",
        "    plt.hist(subset['bill_length_mm'], alpha=0.5, label=f'{label} Bill Length', bins=20)\n",
        "    plt.hist(subset['flipper_length_mm'], alpha=0.5, label=f'{label} Flipper Length', bins=20)\n",
        "\n",
        "plt.xlabel('Length (mm)')\n",
        "plt.ylabel('Frequency')\n",
        "plt.legend()\n",
        "plt.title('Distribution of Features by Species')\n",
        "plt.show()"
      ],
      "metadata": {
        "colab": {
          "base_uri": "https://localhost:8080/",
          "height": 564
        },
        "id": "OOprTUkUvAGY",
        "outputId": "90b911b5-a480-415e-db17-a0ae46222266"
      },
      "execution_count": 75,
      "outputs": [
        {
          "output_type": "display_data",
          "data": {
            "text/plain": [
              "<Figure size 600x600 with 1 Axes>"
            ],
            "image/png": "[encoded data removed]"
          },
          "metadata": {}
        }
      ]
    },
    {
      "cell_type": "code",
      "source": [
        "\n",
        "indices = np.random.permutation(len(X))\n",
        "\n",
        "split_ratio = 0.8\n",
        "train_size = int(len(X) * split_ratio)\n",
        "\n",
        "train_indices = indices[:train_size]\n",
        "test_indices = indices[train_size:]\n",
        "\n",
        "X_train = X[train_indices]\n",
        "X_test = X[test_indices]\n",
        "y_train = y_one_hot[train_indices]\n",
        "y_test = y_one_hot[test_indices]\n",
        "\n",
        "print(f'X_train shape: {X_train.shape}')\n",
        "print(f'X_test shape: {X_test.shape}')\n",
        "print(f'y_train shape: {y_train.shape}')\n",
        "print(f'y_test shape: {y_test.shape}')"
      ],
      "metadata": {
        "colab": {
          "base_uri": "https://localhost:8080/"
        },
        "id": "c6rDUMDLvK4W",
        "outputId": "eb9cd548-69ea-4a4d-cf67-69aabacceef5"
      },
      "execution_count": 76,
      "outputs": [
        {
          "output_type": "stream",
          "name": "stdout",
          "text": [
            "X_train shape: (120, 2)\n",
            "X_test shape: (30, 2)\n",
            "y_train shape: (120, 3)\n",
            "y_test shape: (30, 3)\n"
          ]
        }
      ]
    },
    {
      "cell_type": "markdown",
      "source": [
        "Normalizing"
      ],
      "metadata": {
        "id": "PocuEq0zvRd-"
      }
    },
    {
      "cell_type": "code",
      "source": [
        "def normalize_features(X):\n",
        "    feature_means = np.mean(X, axis=0)\n",
        "    feature_stds = np.std(X, axis=0)\n",
        "\n",
        "    X_normalized = (X - feature_means) / feature_stds\n",
        "\n",
        "    return X_normalized"
      ],
      "metadata": {
        "id": "8NOuqGPevOIc"
      },
      "execution_count": 77,
      "outputs": []
    },
    {
      "cell_type": "code",
      "source": [
        "\n",
        "X_train_normalized = normalize_features(X_train)\n",
        "X_test_normalized = normalize_features(X_test)\n",
        "\n",
        "print(X_train_normalized[:20])\n",
        "print()\n",
        "print(X_test_normalized[:20])"
      ],
      "metadata": {
        "colab": {
          "base_uri": "https://localhost:8080/"
        },
        "id": "VLzlmeOkvoWt",
        "outputId": "79fe6534-59b1-415e-cc9e-153b23879d3f"
      },
      "execution_count": 78,
      "outputs": [
        {
          "output_type": "stream",
          "name": "stdout",
          "text": [
            "[[-1.59639258e+00 -1.16472431e+00]\n",
            " [ 1.03913656e+00  1.30679045e+00]\n",
            " [-6.04622034e-01 -5.84294492e-01]\n",
            " [ 7.60263937e-01  3.81380807e-01]\n",
            " [ 1.44403595e+00 -5.91287499e-01]\n",
            " [ 1.18531039e+00  4.68386493e-01]\n",
            " [ 4.49292976e-02  3.83594800e-02]\n",
            " [ 1.43608962e+00  1.63588432e+00]\n",
            " [ 2.61936099e-01 -1.60564112e+00]\n",
            " [ 4.68613376e-01 -1.43544900e+00]\n",
            " [-7.61975194e-04 -6.70118557e-01]\n",
            " [ 4.78796714e-01 -1.11684797e+00]\n",
            " [ 5.66207814e-01  9.56817120e-01]\n",
            " [ 1.53051392e+00  1.00453396e+00]\n",
            " [-1.51091092e+00  5.14687624e-01]\n",
            " [-9.79839689e-01  8.18511736e-01]\n",
            " [-1.03370323e-01  1.83588837e-01]\n",
            " [-1.31097011e+00  1.43562421e+00]\n",
            " [ 1.66149192e-01  7.10611405e-01]\n",
            " [-1.50131699e+00  1.47836723e+00]]\n",
            "\n",
            "[[ 0.03401649 -0.79473406]\n",
            " [-1.19527847  0.11815535]\n",
            " [ 1.0348246   0.57305306]\n",
            " [ 0.42053839  1.31539964]\n",
            " [-0.70641591 -1.39228662]\n",
            " [ 0.18456204 -1.27961534]\n",
            " [-0.72689937  0.89656512]\n",
            " [ 0.93414634 -1.35714176]\n",
            " [ 1.52435113  1.10311478]\n",
            " [ 1.44190368 -0.76979909]\n",
            " [-1.88156076  1.50595927]\n",
            " [ 0.09757067 -0.98576244]\n",
            " [ 0.76533115  1.40136457]\n",
            " [-0.00644117  0.75086712]\n",
            " [ 0.21005387  0.04537163]\n",
            " [ 0.51072706  0.29938504]\n",
            " [-1.60277747  1.1942157 ]\n",
            " [-0.76804161  0.09917329]\n",
            " [-1.30771484  0.26081816]\n",
            " [ 0.28827268  1.48436109]]\n"
          ]
        }
      ]
    },
    {
      "cell_type": "markdown",
      "source": [
        "Class: Neural Network"
      ],
      "metadata": {
        "id": "p0j9XURUv22c"
      }
    },
    {
      "cell_type": "code",
      "source": [
        "class NeuralNetwork:\n",
        "    def __init__(self):\n",
        "        inputLayerNeurons = 2\n",
        "        hiddenLayer1Neurons = 5\n",
        "        hiddenLayer2Neurons = 5\n",
        "        hiddenLayer3Neurons = 5\n",
        "        outputLayerNeurons = 3\n",
        "\n",
        "        self.learning_rate = 0.001\n",
        "\n",
        "        self.W_H1 = np.random.randn(inputLayerNeurons, hiddenLayer1Neurons)\n",
        "        self.W_H2 = np.random.randn(hiddenLayer1Neurons, hiddenLayer2Neurons)\n",
        "        self.W_H3 = np.random.randn(hiddenLayer2Neurons, hiddenLayer3Neurons)\n",
        "        self.W_O = np.random.randn(hiddenLayer3Neurons, outputLayerNeurons)\n",
        "\n",
        "        self.b_H1 = np.random.randn(1, hiddenLayer1Neurons)\n",
        "        self.b_H2 = np.random.randn(1, hiddenLayer2Neurons)\n",
        "        self.b_H3 = np.random.randn(1, hiddenLayer3Neurons)\n",
        "        self.b_O = np.random.randn(1, outputLayerNeurons)\n",
        "\n",
        "    def relu(self, x, der=False):\n",
        "        if der:\n",
        "            return np.where(x > 0, 1, 0)\n",
        "        else:\n",
        "            return np.maximum(0, x)\n",
        "\n",
        "    def softmax(self, x):\n",
        "        exp_x = np.exp(x - np.max(x, axis=1, keepdims=True))\n",
        "        return exp_x / np.sum(exp_x, axis=1, keepdims=True)\n",
        "\n",
        "    def feedForward(self, X):\n",
        "        # Layer 1\n",
        "        self.hidden_input1 = np.dot(X, self.W_H1) + self.b_H1\n",
        "        self.hidden_output1 = self.relu(self.hidden_input1)\n",
        "\n",
        "        # Layer 2\n",
        "        self.hidden_input2 = np.dot(self.hidden_output1, self.W_H2) + self.b_H2\n",
        "        self.hidden_output2 = self.relu(self.hidden_input2)\n",
        "\n",
        "        # Layer 3\n",
        "        self.hidden_input3 = np.dot(self.hidden_output2, self.W_H3) + self.b_H3\n",
        "        self.hidden_output3 = self.relu(self.hidden_input3)\n",
        "\n",
        "        # Output layer\n",
        "        self.output_input = np.dot(self.hidden_output3, self.W_O) + self.b_O\n",
        "        pred = self.softmax(self.output_input)\n",
        "\n",
        "        return pred\n",
        "\n",
        "    def backPropagation(self, X, Y, pred):\n",
        "        # Output layer error and delta\n",
        "        output_error = Y - pred\n",
        "        output_delta = output_error\n",
        "\n",
        "        # Hidden layer 3 error and delta\n",
        "        hidden_error3 = output_delta.dot(self.W_O.T)\n",
        "        hidden_delta3 = hidden_error3 * self.relu(self.hidden_input3, der=True)\n",
        "\n",
        "        # Hidden layer 2 error and delta\n",
        "        hidden_error2 = hidden_delta3.dot(self.W_H3.T)\n",
        "        hidden_delta2 = hidden_error2 * self.relu(self.hidden_input2, der=True)\n",
        "\n",
        "        # Hidden layer 1 error and delta\n",
        "        hidden_error1 = hidden_delta2.dot(self.W_H2.T)\n",
        "        hidden_delta1 = hidden_error1 * self.relu(self.hidden_input1, der=True)\n",
        "\n",
        "        # Updates weights and biases\n",
        "        self.W_O += self.learning_rate * self.hidden_output3.T.dot(output_delta)\n",
        "        self.b_O += self.learning_rate * np.sum(output_delta, axis=0, keepdims=True)\n",
        "\n",
        "        self.W_H3 += self.learning_rate * self.hidden_output2.T.dot(hidden_delta3)\n",
        "        self.b_H3 += self.learning_rate * np.sum(hidden_delta3, axis=0, keepdims=True)\n",
        "\n",
        "        self.W_H2 += self.learning_rate * self.hidden_output1.T.dot(hidden_delta2)\n",
        "        self.b_H2 += self.learning_rate * np.sum(hidden_delta2, axis=0, keepdims=True)\n",
        "\n",
        "        self.W_H1 += self.learning_rate * X.T.dot(hidden_delta1)\n",
        "        self.b_H1 += self.learning_rate * np.sum(hidden_delta1, axis=0, keepdims=True)\n",
        "\n",
        "    def train(self, X, Y):\n",
        "        # Forward pass\n",
        "        output = self.feedForward(X)\n",
        "\n",
        "        # Backward pass\n",
        "        self.backPropagation(X, Y, output)"
      ],
      "metadata": {
        "id": "m7aKy50qv6AX"
      },
      "execution_count": 79,
      "outputs": []
    },
    {
      "cell_type": "markdown",
      "source": [
        "Categorical cross entropy and accuracy"
      ],
      "metadata": {
        "id": "fMR6TlFpwJck"
      }
    },
    {
      "cell_type": "code",
      "source": [
        "def categorical_cross_entropy(y_true, y_pred):\n",
        "    y_pred = np.clip(y_pred, 1e-9, 1 - 1e-9)\n",
        "    return -np.sum(y_true * np.log(y_pred)) / y_true.shape[0]"
      ],
      "metadata": {
        "id": "j6YQUElPwIik"
      },
      "execution_count": 80,
      "outputs": []
    },
    {
      "cell_type": "code",
      "source": [
        "def accuracy(y_true, y_pred):\n",
        "    return np.mean(np.argmax(y_true, axis=1) == np.argmax(y_pred, axis=1))"
      ],
      "metadata": {
        "id": "1lWWpYEfwUb1"
      },
      "execution_count": 81,
      "outputs": []
    },
    {
      "cell_type": "markdown",
      "source": [
        "Training the nural network"
      ],
      "metadata": {
        "id": "AO7lw3rgwXtk"
      }
    },
    {
      "cell_type": "code",
      "source": [
        "NN = NeuralNetwork()\n",
        "epochs = 10000\n",
        "err = []\n",
        "acc = []\n",
        "\n",
        "for epoch in range(epochs):\n",
        "    NN.train(X_train_normalized, y_train)\n",
        "    y_pred = NN.feedForward(X_train_normalized)\n",
        "    err.append(categorical_cross_entropy(y_train, y_pred))\n",
        "    acc.append(accuracy(y_train, y_pred))\n",
        "\n",
        "    if epoch % 100 == 0:\n",
        "        print(f\"Epoch {epoch}/{epochs} - Loss: {err[epoch]:.4f}, Accuracy: {acc[epoch]:.4f}\")"
      ],
      "metadata": {
        "colab": {
          "base_uri": "https://localhost:8080/"
        },
        "id": "BqOp3hskwbUV",
        "outputId": "14b9a54f-3e9b-4e0e-c587-d75fd91a8348"
      },
      "execution_count": 90,
      "outputs": [
        {
          "output_type": "stream",
          "name": "stdout",
          "text": [
            "Epoch 0/10000 - Loss: 1.0708, Accuracy: 0.6083\n",
            "Epoch 100/10000 - Loss: 0.0010, Accuracy: 1.0000\n",
            "Epoch 200/10000 - Loss: 0.0004, Accuracy: 1.0000\n",
            "Epoch 300/10000 - Loss: 0.0002, Accuracy: 1.0000\n",
            "Epoch 400/10000 - Loss: 0.0002, Accuracy: 1.0000\n",
            "Epoch 500/10000 - Loss: 0.0001, Accuracy: 1.0000\n",
            "Epoch 600/10000 - Loss: 0.0001, Accuracy: 1.0000\n",
            "Epoch 700/10000 - Loss: 0.0001, Accuracy: 1.0000\n",
            "Epoch 800/10000 - Loss: 0.0001, Accuracy: 1.0000\n",
            "Epoch 900/10000 - Loss: 0.0001, Accuracy: 1.0000\n",
            "Epoch 1000/10000 - Loss: 0.0001, Accuracy: 1.0000\n",
            "Epoch 1100/10000 - Loss: 0.0001, Accuracy: 1.0000\n",
            "Epoch 1200/10000 - Loss: 0.0000, Accuracy: 1.0000\n",
            "Epoch 1300/10000 - Loss: 0.0000, Accuracy: 1.0000\n",
            "Epoch 1400/10000 - Loss: 0.0000, Accuracy: 1.0000\n",
            "Epoch 1500/10000 - Loss: 0.0000, Accuracy: 1.0000\n",
            "Epoch 1600/10000 - Loss: 0.0000, Accuracy: 1.0000\n",
            "Epoch 1700/10000 - Loss: 0.0000, Accuracy: 1.0000\n",
            "Epoch 1800/10000 - Loss: 0.0000, Accuracy: 1.0000\n",
            "Epoch 1900/10000 - Loss: 0.0000, Accuracy: 1.0000\n",
            "Epoch 2000/10000 - Loss: 0.0000, Accuracy: 1.0000\n",
            "Epoch 2100/10000 - Loss: 0.0000, Accuracy: 1.0000\n",
            "Epoch 2200/10000 - Loss: 0.0000, Accuracy: 1.0000\n",
            "Epoch 2300/10000 - Loss: 0.0000, Accuracy: 1.0000\n",
            "Epoch 2400/10000 - Loss: 0.0000, Accuracy: 1.0000\n",
            "Epoch 2500/10000 - Loss: 0.0000, Accuracy: 1.0000\n",
            "Epoch 2600/10000 - Loss: 0.0000, Accuracy: 1.0000\n",
            "Epoch 2700/10000 - Loss: 0.0000, Accuracy: 1.0000\n",
            "Epoch 2800/10000 - Loss: 0.0000, Accuracy: 1.0000\n",
            "Epoch 2900/10000 - Loss: 0.0000, Accuracy: 1.0000\n",
            "Epoch 3000/10000 - Loss: 0.0000, Accuracy: 1.0000\n",
            "Epoch 3100/10000 - Loss: 0.0000, Accuracy: 1.0000\n",
            "Epoch 3200/10000 - Loss: 0.0000, Accuracy: 1.0000\n",
            "Epoch 3300/10000 - Loss: 0.0000, Accuracy: 1.0000\n",
            "Epoch 3400/10000 - Loss: 0.0000, Accuracy: 1.0000\n",
            "Epoch 3500/10000 - Loss: 0.0000, Accuracy: 1.0000\n",
            "Epoch 3600/10000 - Loss: 0.0000, Accuracy: 1.0000\n",
            "Epoch 3700/10000 - Loss: 0.0000, Accuracy: 1.0000\n",
            "Epoch 3800/10000 - Loss: 0.0000, Accuracy: 1.0000\n",
            "Epoch 3900/10000 - Loss: 0.0000, Accuracy: 1.0000\n",
            "Epoch 4000/10000 - Loss: 0.0000, Accuracy: 1.0000\n",
            "Epoch 4100/10000 - Loss: 0.0000, Accuracy: 1.0000\n",
            "Epoch 4200/10000 - Loss: 0.0000, Accuracy: 1.0000\n",
            "Epoch 4300/10000 - Loss: 0.0000, Accuracy: 1.0000\n",
            "Epoch 4400/10000 - Loss: 0.0000, Accuracy: 1.0000\n",
            "Epoch 4500/10000 - Loss: 0.0000, Accuracy: 1.0000\n",
            "Epoch 4600/10000 - Loss: 0.0000, Accuracy: 1.0000\n",
            "Epoch 4700/10000 - Loss: 0.0000, Accuracy: 1.0000\n",
            "Epoch 4800/10000 - Loss: 0.0000, Accuracy: 1.0000\n",
            "Epoch 4900/10000 - Loss: 0.0000, Accuracy: 1.0000\n",
            "Epoch 5000/10000 - Loss: 0.0000, Accuracy: 1.0000\n",
            "Epoch 5100/10000 - Loss: 0.0000, Accuracy: 1.0000\n",
            "Epoch 5200/10000 - Loss: 0.0000, Accuracy: 1.0000\n",
            "Epoch 5300/10000 - Loss: 0.0000, Accuracy: 1.0000\n",
            "Epoch 5400/10000 - Loss: 0.0000, Accuracy: 1.0000\n",
            "Epoch 5500/10000 - Loss: 0.0000, Accuracy: 1.0000\n",
            "Epoch 5600/10000 - Loss: 0.0000, Accuracy: 1.0000\n",
            "Epoch 5700/10000 - Loss: 0.0000, Accuracy: 1.0000\n",
            "Epoch 5800/10000 - Loss: 0.0000, Accuracy: 1.0000\n",
            "Epoch 5900/10000 - Loss: 0.0000, Accuracy: 1.0000\n",
            "Epoch 6000/10000 - Loss: 0.0000, Accuracy: 1.0000\n",
            "Epoch 6100/10000 - Loss: 0.0000, Accuracy: 1.0000\n",
            "Epoch 6200/10000 - Loss: 0.0000, Accuracy: 1.0000\n",
            "Epoch 6300/10000 - Loss: 0.0000, Accuracy: 1.0000\n",
            "Epoch 6400/10000 - Loss: 0.0000, Accuracy: 1.0000\n",
            "Epoch 6500/10000 - Loss: 0.0000, Accuracy: 1.0000\n",
            "Epoch 6600/10000 - Loss: 0.0000, Accuracy: 1.0000\n",
            "Epoch 6700/10000 - Loss: 0.0000, Accuracy: 1.0000\n",
            "Epoch 6800/10000 - Loss: 0.0000, Accuracy: 1.0000\n",
            "Epoch 6900/10000 - Loss: 0.0000, Accuracy: 1.0000\n",
            "Epoch 7000/10000 - Loss: 0.0000, Accuracy: 1.0000\n",
            "Epoch 7100/10000 - Loss: 0.0000, Accuracy: 1.0000\n",
            "Epoch 7200/10000 - Loss: 0.0000, Accuracy: 1.0000\n",
            "Epoch 7300/10000 - Loss: 0.0000, Accuracy: 1.0000\n",
            "Epoch 7400/10000 - Loss: 0.0000, Accuracy: 1.0000\n",
            "Epoch 7500/10000 - Loss: 0.0000, Accuracy: 1.0000\n",
            "Epoch 7600/10000 - Loss: 0.0000, Accuracy: 1.0000\n",
            "Epoch 7700/10000 - Loss: 0.0000, Accuracy: 1.0000\n",
            "Epoch 7800/10000 - Loss: 0.0000, Accuracy: 1.0000\n",
            "Epoch 7900/10000 - Loss: 0.0000, Accuracy: 1.0000\n",
            "Epoch 8000/10000 - Loss: 0.0000, Accuracy: 1.0000\n",
            "Epoch 8100/10000 - Loss: 0.0000, Accuracy: 1.0000\n",
            "Epoch 8200/10000 - Loss: 0.0000, Accuracy: 1.0000\n",
            "Epoch 8300/10000 - Loss: 0.0000, Accuracy: 1.0000\n",
            "Epoch 8400/10000 - Loss: 0.0000, Accuracy: 1.0000\n",
            "Epoch 8500/10000 - Loss: 0.0000, Accuracy: 1.0000\n",
            "Epoch 8600/10000 - Loss: 0.0000, Accuracy: 1.0000\n",
            "Epoch 8700/10000 - Loss: 0.0000, Accuracy: 1.0000\n",
            "Epoch 8800/10000 - Loss: 0.0000, Accuracy: 1.0000\n",
            "Epoch 8900/10000 - Loss: 0.0000, Accuracy: 1.0000\n",
            "Epoch 9000/10000 - Loss: 0.0000, Accuracy: 1.0000\n",
            "Epoch 9100/10000 - Loss: 0.0000, Accuracy: 1.0000\n",
            "Epoch 9200/10000 - Loss: 0.0000, Accuracy: 1.0000\n",
            "Epoch 9300/10000 - Loss: 0.0000, Accuracy: 1.0000\n",
            "Epoch 9400/10000 - Loss: 0.0000, Accuracy: 1.0000\n",
            "Epoch 9500/10000 - Loss: 0.0000, Accuracy: 1.0000\n",
            "Epoch 9600/10000 - Loss: 0.0000, Accuracy: 1.0000\n",
            "Epoch 9700/10000 - Loss: 0.0000, Accuracy: 1.0000\n",
            "Epoch 9800/10000 - Loss: 0.0000, Accuracy: 1.0000\n",
            "Epoch 9900/10000 - Loss: 0.0000, Accuracy: 1.0000\n"
          ]
        }
      ]
    },
    {
      "cell_type": "markdown",
      "source": [
        "Plotting training loss and accuracy"
      ],
      "metadata": {
        "id": "bLxGc4mFwkcM"
      }
    },
    {
      "cell_type": "code",
      "source": [
        "fig, ax = plt.subplots(1, 2, figsize=(10, 6))\n",
        "\n",
        "ax[0].plot(err)\n",
        "ax[0].set_xlabel('Epochs')\n",
        "ax[0].set_ylabel('Categorical Cross-Entropy Loss')\n",
        "ax[0].set_title('Training Loss')\n",
        "\n",
        "ax[1].plot(acc)\n",
        "ax[1].set_xlabel('Epochs')\n",
        "ax[1].set_ylabel('Accuracy')\n",
        "ax[1].set_title('Training Accuracy')\n",
        "\n",
        "plt.show()\n"
      ],
      "metadata": {
        "colab": {
          "base_uri": "https://localhost:8080/",
          "height": 564
        },
        "id": "t8WPgb3vwj-V",
        "outputId": "a99dc5cf-445b-4c7b-f3cb-1af2e6274b7f"
      },
      "execution_count": 91,
      "outputs": [
        {
          "output_type": "display_data",
          "data": {
            "text/plain": [
              "<Figure size 1000x600 with 2 Axes>"
            ],
            "image/png": "[encoded data removed]"
          },
          "metadata": {}
        }
      ]
    },
    {
      "cell_type": "code",
      "source": [
        "y_test_pred = NN.feedForward(X_test_normalized)\n",
        "\n",
        "test_loss = categorical_cross_entropy(y_test, y_test_pred)\n",
        "test_accuracy = accuracy(y_test, y_test_pred)\n",
        "\n",
        "print(f\"Test Loss: {test_loss:.4f}\")\n",
        "print(f\"Test Accuracy: {test_accuracy:.2%}\")"
      ],
      "metadata": {
        "colab": {
          "base_uri": "https://localhost:8080/"
        },
        "id": "R19dc9DHw9Ge",
        "outputId": "6f20a8ba-7525-48de-80c9-dedd88573cdc"
      },
      "execution_count": 84,
      "outputs": [
        {
          "output_type": "stream",
          "name": "stdout",
          "text": [
            "Test Loss: 0.0000\n",
            "Test Accuracy: 100.00%\n"
          ]
        }
      ]
    },
    {
      "cell_type": "markdown",
      "source": [
        "plotting confusion matrix"
      ],
      "metadata": {
        "id": "LH2JdlC2xERO"
      }
    },
    {
      "cell_type": "code",
      "source": [
        "from sklearn.metrics import confusion_matrix, ConfusionMatrixDisplay\n",
        "import numpy as np\n",
        "import matplotlib.pyplot as plt\n",
        "\n",
        "labels = [\"Class A\", \"Class B\", \"Class C\"]\n",
        "all_possible_labels = [0, 1, 2]\n",
        "\n",
        "y_test_pred_labels = np.argmax(y_test_pred, axis=1)\n",
        "y_test_labels = np.argmax(y_test, axis=1)\n",
        "\n",
        "cm = confusion_matrix(y_test_labels, y_test_pred_labels, labels=all_possible_labels)\n",
        "\n",
        "plt.figure(figsize=(8, 6))\n",
        "disp = ConfusionMatrixDisplay(\n",
        "    confusion_matrix=cm,\n",
        "    display_labels=labels\n",
        ")\n",
        "disp.plot(\n",
        "    cmap='Blues',\n",
        "    xticks_rotation=45,\n",
        "    colorbar=False\n",
        ")\n",
        "plt.title('Confusion Matrix', fontsize=16, fontweight='bold')\n",
        "plt.xlabel('Predicted Labels', fontsize=12)\n",
        "plt.ylabel('True Labels', fontsize=12)\n",
        "plt.show()\n",
        "\n"
      ],
      "metadata": {
        "colab": {
          "base_uri": "https://localhost:8080/",
          "height": 526
        },
        "id": "vyaIzhwBxIMV",
        "outputId": "e017ed39-0e89-415b-a04b-09d4e75d713e"
      },
      "execution_count": 85,
      "outputs": [
        {
          "output_type": "display_data",
          "data": {
            "text/plain": [
              "<Figure size 800x600 with 0 Axes>"
            ]
          },
          "metadata": {}
        },
        {
          "output_type": "display_data",
          "data": {
            "text/plain": [
              "<Figure size 640x480 with 1 Axes>"
            ],
            "image/png": "[encoded data removed]"
          },
          "metadata": {}
        }
      ]
    },
    {
      "cell_type": "code",
      "source": [
        "from matplotlib.colors import ListedColormap\n",
        "\n",
        "x_min, x_max = X_test_normalized[:, 0].min() - 1, X_test_normalized[:, 0].max() + 1\n",
        "y_min, y_max = X_test_normalized[:, 1].min() - 1, X_test_normalized[:, 1].max() + 1\n",
        "xx, yy = np.meshgrid(np.arange(x_min, x_max, 0.01), np.arange(y_min, y_max, 0.01))\n",
        "\n",
        "grid_points = np.c_[xx.ravel(), yy.ravel()]\n",
        "grid_pred = NN.feedForward(grid_points)\n",
        "grid_pred_classes = np.argmax(grid_pred, axis=1)\n",
        "\n",
        "plt.figure(figsize=(6, 6))\n",
        "cmap = ListedColormap(['#2b75b1', '#fd8529', '#2f9d35'])\n",
        "plt.contourf(xx, yy, grid_pred_classes.reshape(xx.shape), alpha=0.4, cmap=cmap)\n",
        "\n",
        "for label, marker in zip(np.unique(y_test_labels), markers):\n",
        "    plt.scatter(X_test_normalized[y_test_labels == label, 0],\n",
        "                X_test_normalized[y_test_labels == label, 1],\n",
        "                label=labels[label],\n",
        "                marker=marker,\n",
        "                s=100)\n",
        "\n",
        "plt.xlabel(\"bill_length_mm\")\n",
        "plt.ylabel(\"flipper_length_mm\")\n",
        "plt.legend()\n",
        "plt.title(\"Decision Boundaries and Test Data Points\")\n",
        "plt.show()\n"
      ],
      "metadata": {
        "colab": {
          "base_uri": "https://localhost:8080/",
          "height": 564
        },
        "id": "UxHF_q-Wydqs",
        "outputId": "84284a21-fc19-4ad0-c43f-e6a896a66352"
      },
      "execution_count": 86,
      "outputs": [
        {
          "output_type": "display_data",
          "data": {
            "text/plain": [
              "<Figure size 600x600 with 1 Axes>"
            ],
            "image/png": "[encoded data removed]"
          },
          "metadata": {}
        }
      ]
    }
  ]
}